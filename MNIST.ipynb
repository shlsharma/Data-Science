{
  "nbformat": 4,
  "nbformat_minor": 0,
  "metadata": {
    "colab": {
      "provenance": [],
      "mount_file_id": "1gy0bpc7ZbhbUUI_t4Qw8CsWbpaXXhXi3",
      "authorship_tag": "ABX9TyOq1mVD81mBWCI6kkMVagRR",
      "include_colab_link": true
    },
    "kernelspec": {
      "name": "python3",
      "display_name": "Python 3"
    },
    "language_info": {
      "name": "python"
    }
  },
  "cells": [
    {
      "cell_type": "markdown",
      "metadata": {
        "id": "view-in-github",
        "colab_type": "text"
      },
      "source": [
        "<a href=\"https://colab.research.google.com/github/shlsharma/Data-Science/blob/main/MNIST.ipynb\" target=\"_parent\"><img src=\"https://colab.research.google.com/assets/colab-badge.svg\" alt=\"Open In Colab\"/></a>"
      ]
    },
    {
      "cell_type": "code",
      "execution_count": 2,
      "metadata": {
        "id": "ODRX6DURsT3i"
      },
      "outputs": [],
      "source": [
        "#https://www.kaggle.com/c/digit-recognizer/data\n",
        "\n",
        "import numpy as np\n",
        "import pandas as pd\n",
        "import matplotlib.pyplot as plt\n"
      ]
    },
    {
      "cell_type": "code",
      "source": [
        "df = pd.read_csv('/content/drive/MyDrive/Data Science/train.csv')"
      ],
      "metadata": {
        "id": "wtAIxG9BwfIf"
      },
      "execution_count": 18,
      "outputs": []
    },
    {
      "cell_type": "code",
      "source": [
        "print(df.head(10))"
      ],
      "metadata": {
        "colab": {
          "base_uri": "https://localhost:8080/"
        },
        "id": "DjWWqTdAyMJQ",
        "outputId": "250cb0f2-64cb-45c9-8e40-180b02b7c051"
      },
      "execution_count": 19,
      "outputs": [
        {
          "output_type": "stream",
          "name": "stdout",
          "text": [
            "   label  pixel0  pixel1  pixel2  pixel3  pixel4  pixel5  pixel6  pixel7  \\\n",
            "0      1       0       0       0       0       0       0       0       0   \n",
            "1      0       0       0       0       0       0       0       0       0   \n",
            "2      1       0       0       0       0       0       0       0       0   \n",
            "3      4       0       0       0       0       0       0       0       0   \n",
            "4      0       0       0       0       0       0       0       0       0   \n",
            "5      0       0       0       0       0       0       0       0       0   \n",
            "6      7       0       0       0       0       0       0       0       0   \n",
            "7      3       0       0       0       0       0       0       0       0   \n",
            "8      5       0       0       0       0       0       0       0       0   \n",
            "9      3       0       0       0       0       0       0       0       0   \n",
            "\n",
            "   pixel8  ...  pixel774  pixel775  pixel776  pixel777  pixel778  pixel779  \\\n",
            "0       0  ...         0         0         0         0         0         0   \n",
            "1       0  ...         0         0         0         0         0         0   \n",
            "2       0  ...         0         0         0         0         0         0   \n",
            "3       0  ...         0         0         0         0         0         0   \n",
            "4       0  ...         0         0         0         0         0         0   \n",
            "5       0  ...         0         0         0         0         0         0   \n",
            "6       0  ...         0         0         0         0         0         0   \n",
            "7       0  ...         0         0         0         0         0         0   \n",
            "8       0  ...         0         0         0         0         0         0   \n",
            "9       0  ...         0         0         0         0         0         0   \n",
            "\n",
            "   pixel780  pixel781  pixel782  pixel783  \n",
            "0         0         0         0         0  \n",
            "1         0         0         0         0  \n",
            "2         0         0         0         0  \n",
            "3         0         0         0         0  \n",
            "4         0         0         0         0  \n",
            "5         0         0         0         0  \n",
            "6         0         0         0         0  \n",
            "7         0         0         0         0  \n",
            "8         0         0         0         0  \n",
            "9         0         0         0         0  \n",
            "\n",
            "[10 rows x 785 columns]\n"
          ]
        }
      ]
    },
    {
      "cell_type": "code",
      "source": [],
      "metadata": {
        "id": "UXkZkRB8yqiZ"
      },
      "execution_count": null,
      "outputs": []
    }
  ]
}